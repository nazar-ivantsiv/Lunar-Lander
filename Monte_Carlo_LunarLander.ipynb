{
 "cells": [
  {
   "cell_type": "markdown",
   "metadata": {},
   "source": [
    "# Monte Carlo LunarLander\n",
    "\n",
    "Tabular Monte Carlo method to solve OpenAI GYM LunarLander-v2: https://gym.openai.com/envs/LunarLander-v2/\n",
    "\n",
    "You can find more about this algorithm in Sutton's book Reinforcement Learning: An introduction (Chapter 5) http://incompleteideas.net/book/the-book-2nd.html"
   ]
  },
  {
   "cell_type": "markdown",
   "metadata": {},
   "source": [
    "---"
   ]
  },
  {
   "cell_type": "markdown",
   "metadata": {},
   "source": [
    "## Importing packages"
   ]
  },
  {
   "cell_type": "code",
   "execution_count": 1,
   "metadata": {},
   "outputs": [],
   "source": [
    "import numpy as np\n",
    "import gym\n",
    "import random\n",
    "import math"
   ]
  },
  {
   "cell_type": "markdown",
   "metadata": {},
   "source": [
    "## Create the environment"
   ]
  },
  {
   "cell_type": "code",
   "execution_count": 2,
   "metadata": {},
   "outputs": [],
   "source": [
    "def create_env():\n",
    "    return gym.make('LunarLander-v2')\n",
    "    #env.render()"
   ]
  },
  {
   "cell_type": "markdown",
   "metadata": {},
   "source": [
    "## Environment preview"
   ]
  },
  {
   "cell_type": "code",
   "execution_count": 3,
   "metadata": {},
   "outputs": [],
   "source": [
    "def env_preview(env):\n",
    "    env.reset()\n",
    "    for dummy in range(100):\n",
    "        env.render()\n",
    "        state, reward, done, info = env.step(env.action_space.sample())\n",
    "        if done:\n",
    "            break\n",
    "    env.close()"
   ]
  },
  {
   "cell_type": "code",
   "execution_count": 4,
   "metadata": {},
   "outputs": [],
   "source": [
    "env_preview(create_env())"
   ]
  },
  {
   "cell_type": "markdown",
   "metadata": {},
   "source": [
    "## Understanding the environment"
   ]
  },
  {
   "cell_type": "code",
   "execution_count": 5,
   "metadata": {},
   "outputs": [],
   "source": [
    "def show_action_and_env_space(env):\n",
    "    # Action space and environment space\n",
    "    print(\"env.action_space\", env.action_space)\n",
    "    print(\"env.observation_space\", env.observation_space)\n",
    "    print(\"env.observation_space.high\", env.observation_space.high)\n",
    "    print(\"env.observation_space.low\", env.observation_space.low)"
   ]
  },
  {
   "cell_type": "markdown",
   "metadata": {},
   "source": [
    "## Buckets\n",
    "We need to discretize the environment values (observation vector); to do this, we are going to use buckets for each dimension of the observation vector. If the real value of the first dimension of the observation vector is in $[a,b]$ and if the number of buckets for that dimension is $n$, we are going to interpolate that real value into an integer in $[0,n-1]$."
   ]
  },
  {
   "cell_type": "code",
   "execution_count": 6,
   "metadata": {},
   "outputs": [],
   "source": [
    "def set_buckets_and_actions():\n",
    "    number_of_buckets = (5,5,5,5,5,5,2,2) #buckets in each dimension\n",
    "    number_of_actions = env.action_space.n\n",
    "    \n",
    "    #Creating a 2-tuple with the original bounds of each dimension\n",
    "    state_value_bounds = list(zip(env.observation_space.low,env.observation_space.high))\n",
    "    \n",
    "    #New bound values for each dimension\n",
    "    state_value_bounds[0] = [-1,1]      #Position x\n",
    "    state_value_bounds[1] = [-1,1]    #Position y\n",
    "    state_value_bounds[2] = [-1,1]        #vel x\n",
    "    state_value_bounds[3] = [-1,1]    #vel y\n",
    "    state_value_bounds[4] = [-1,1]        #angle\n",
    "    state_value_bounds[5] = [-1,1]        #angular vel\n",
    "    state_value_bounds[6] = [0,1]\n",
    "    state_value_bounds[7] = [0,1]\n",
    "    \n",
    "    return number_of_buckets, number_of_actions, state_value_bounds\n",
    "    \n",
    "    "
   ]
  },
  {
   "cell_type": "code",
   "execution_count": 7,
   "metadata": {},
   "outputs": [],
   "source": [
    "def bucketize(state):\n",
    "    bucket_indexes = []\n",
    "    for i in range(len(state)):\n",
    "        if state[i] <= state_value_bounds[i][0]:\n",
    "            bucket_index = 0\n",
    "        elif state[i] >= state_value_bounds[i][1]:\n",
    "            bucket_index = number_of_buckets[i] - 1\n",
    "        else:\n",
    "            bound_width = state_value_bounds[i][1] - state_value_bounds[i][0]\n",
    "            offset = (number_of_buckets[i]-1) * state_value_bounds[i][0]/bound_width\n",
    "            scaling = (number_of_buckets[i]-1) / bound_width\n",
    "            bucket_index = int(round(scaling*state[i] - offset))\n",
    "        bucket_indexes.append(bucket_index)\n",
    "    return tuple(bucket_indexes)"
   ]
  },
  {
   "cell_type": "markdown",
   "metadata": {},
   "source": [
    "## Create the Q-table"
   ]
  },
  {
   "cell_type": "code",
   "execution_count": 8,
   "metadata": {},
   "outputs": [],
   "source": [
    "def initialize_q_table():\n",
    "    return np.zeros(number_of_buckets + (number_of_actions,))"
   ]
  },
  {
   "cell_type": "markdown",
   "metadata": {},
   "source": [
    "## Create Returns_table"
   ]
  },
  {
   "cell_type": "code",
   "execution_count": 9,
   "metadata": {},
   "outputs": [],
   "source": [
    "def initialize_visits_table():\n",
    "    return np.zeros(number_of_buckets + (number_of_actions,))"
   ]
  },
  {
   "cell_type": "code",
   "execution_count": 10,
   "metadata": {},
   "outputs": [],
   "source": [
    "def decay_function(episode):\n",
    "    return max(min_epsilon, min(max_epsilon, 1.0 - \n",
    "                              math.log10((episode + 1) / (total_train_episodes*0.1))))"
   ]
  },
  {
   "cell_type": "code",
   "execution_count": 11,
   "metadata": {},
   "outputs": [],
   "source": [
    "def choose_action(q_table, bucket_state, epsilon):\n",
    "    if (np.random.random() <= epsilon):\n",
    "        #print(\"random\")\n",
    "        return env.action_space.sample() #Exploration\n",
    "    else:\n",
    "        #print(\"greedy\")\n",
    "        return np.argmax(q_table[bucket_state]) #Eplotation"
   ]
  },
  {
   "cell_type": "code",
   "execution_count": 12,
   "metadata": {},
   "outputs": [],
   "source": [
    "# ******* Generate an episode following pi: S0, A0, R1, ...S_T-1,A_T-1,R_T\n",
    "def Generate_episode(epsilon, q_table, max_env_steps):\n",
    "    # Control variables\n",
    "    total_reward = 0\n",
    "    done = False\n",
    "        \n",
    "    trayectory = []\n",
    "        \n",
    "    # Initialize S\n",
    "    # Reset the environment getting the initial state\n",
    "    bucket_state = bucketize(env.reset())\n",
    "\n",
    "    # Loop for each step of episode:\n",
    "    for step in range(max_env_steps):\n",
    "            #print(\"step \", step)\n",
    "\n",
    "        # Choose A from S using a soft policy derived from Q (e.g., epsilon-greedy)\n",
    "        action = choose_action(q_table, bucket_state, epsilon)\n",
    "            #print(q_table[bucket_state])\n",
    "            #print(\"action \", action)\n",
    "\n",
    "        # Take the action A, observe R, S'\n",
    "        new_state, reward, done, info = env.step(action)\n",
    "        bucket_new_state = bucketize(new_state)\n",
    "            #print(\"reward \", reward)\n",
    "            \n",
    "        trayectory.append([bucket_state, action, reward])\n",
    "            \n",
    "        # new_state is now the current state\n",
    "        bucket_state = bucket_new_state\n",
    "\n",
    "        total_reward += reward\n",
    "\n",
    "        # if done, finish the episode\n",
    "        if done:\n",
    "            break\n",
    "    \n",
    "    return trayectory, total_reward"
   ]
  },
  {
   "cell_type": "markdown",
   "metadata": {},
   "source": [
    "---"
   ]
  },
  {
   "cell_type": "markdown",
   "metadata": {},
   "source": [
    "# The Monte Carlo algorithm\n",
    "\n",
    "* Initialize $Q(s,a) \\in \\mathbb{R}$ arbitrarily ($Q(S,A) = 0$, for all $S,A$ in this case)\n",
    "* $Returns(s,a) \\longleftarrow$ empty list for all $S, A$\n",
    "* Loop for each episode:\n",
    "    * Generate an episode following $\\pi$: $S_0, A_0, R_1, ..., S_{T-1}, A_{T-1}, R_T$\n",
    "    * $G \\longleftarrow 0$\n",
    "    * Loop for each step of episode, $t=T-1, T-2, ..., 0$:\n",
    "        * $G \\longleftarrow \\gamma G + R_{t+1}$\n",
    "        * Unless the pair $S_t, A_t$ appears in $S_0, A_0, S_1, A_1, ..., S_{t-1}, A_{t-1}$:\n",
    "            * Append $G$ to $Returns(S_t,A_t)$\n",
    "            * $Q(S_t,A_t)$ $\\longleftarrow$ average($Returns(S_t,A_t)$)\n",
    "            * $A* \\longleftarrow argmax_aQ(S_t,a)$\n",
    "            * For all $a \\in A(S_t)$:\n",
    "                * if $a = A*: \\pi (a|S_t) \\longleftarrow 1 - \\epsilon + \\epsilon / A(S_t)$\n",
    "                * else if $a \\neq A*: \\pi (a|S_t) \\longleftarrow \\epsilon / A(S_t)$\n",
    "                "
   ]
  },
  {
   "cell_type": "code",
   "execution_count": 24,
   "metadata": {
    "scrolled": true
   },
   "outputs": [],
   "source": [
    "def Monte_Carlo():\n",
    "    # ******* Initialize 𝑄(s,a) arbitrarily.\n",
    "    q_table = initialize_q_table()\n",
    "    #print(\"Q_Table shape: \", q_table.shape)\n",
    "    \n",
    "    # ******* Initialize Returns(s,a) empty list\n",
    "    # initialize visits_counter instead (for incremental implementation of the average)\n",
    "    visits_counter = initialize_visits_table()\n",
    "    \n",
    "    rewards = []\n",
    "    \n",
    "    max_env_steps = env._max_episode_steps   #1000 in LunarLander\n",
    "    #print(\"Max env steps: \", max_env_steps)\n",
    "    \n",
    "\n",
    "    epsilon_tmp = 1.0\n",
    "    epsilon_decay = .996\n",
    "    \n",
    "    # ******* Loop for each episode:\n",
    "    for episode in range(total_train_episodes):\n",
    "        #print(\"\\n\\n ***Episode*** \", episode)\n",
    "        \n",
    "        # ******* Generate an episode following pi: S0, A0, R1, ...S_T-1,A_T-1,R_T\n",
    "        #Update epsilon\n",
    "        epsilon = decay_function(episode)\n",
    "        \n",
    "        \n",
    "        trayectory ,total_reward = Generate_episode(epsilon, q_table, max_env_steps)\n",
    "        \n",
    "        epsilon_tmp *= (epsilon_decay ** len(trayectory))\n",
    "        \n",
    "        print(\"Epsilon \", epsilon)\n",
    "        print(\"Epsilon_tmp \", epsilon_tmp)\n",
    "        \n",
    "        # ******* G <-- 0\n",
    "        G = 0\n",
    "        \n",
    "        \n",
    "        # ******* Loop for each step of episode: t = T-1, T-2, ..., 0\n",
    "        for t in reversed(range(len(trayectory))):\n",
    "            #print(\"\\n step\", t)\n",
    "            s_t, a_t, r_t = trayectory[t]\n",
    "            # ******* G <-- gamma*G + R_{t+1}\n",
    "            G = gamma*G + r_t\n",
    "            #print(\"G \", G)\n",
    "            \n",
    "            # ******* Unless the pair S_t,A_t appears in S_0,A_0,R_1, ...,S_{t-1},A_{t-1}: \n",
    "            if not [s_t, a_t] in [[x[0], x[1]] for x in trayectory[0:t]]:\n",
    "                #print(\"YES First visit \", s_t, a_t)\n",
    "                \n",
    "                # ******* Append G to Returns(S_t,A_t)\n",
    "                # ******* Q(S_t,A_t) <-- average(Returns(S_t,A_t))\n",
    "                # Using incremental implementation: Q(S_t,A_t)= Q_n <-- Q_n + (1/n)*(G_n - Q_n)\n",
    "                visits_counter[s_t][a_t] += 1\n",
    "                #print(\"visits_counter \", visits_counter[s_t][a_t])\n",
    "                #print(\"old Q value \", q_table[s_t][a_t])\n",
    "                q_table[s_t][a_t] += (G - q_table[s_t][a_t]) / visits_counter[s_t][a_t]\n",
    "                #print(\"new Q value \", q_table[s_t][a_t])\n",
    "            #else: print(\"NO first visit \", s_t, a_t)\n",
    "        \n",
    "                  \n",
    "        #print(\"total_reward \", total_reward)\n",
    "        \n",
    "        if episode % 50 == 0:\n",
    "            rewards.append(total_reward)\n",
    "            print(\"Episode {}, epsilon {:5.4f}, reward {:6.2f}\".format(episode,epsilon,total_reward))  \n",
    "    \n",
    "    rewards.append(total_reward)\n",
    "    print(\"Episode {}, epsilon {:5.4f}, reward {:6.2f}\".format(episode,epsilon,total_reward))\n",
    "    return q_table, rewards"
   ]
  },
  {
   "cell_type": "markdown",
   "metadata": {},
   "source": [
    "---"
   ]
  },
  {
   "cell_type": "markdown",
   "metadata": {},
   "source": [
    "## Getting Q-Learning training plots "
   ]
  },
  {
   "cell_type": "markdown",
   "metadata": {},
   "source": [
    "#### Running Q-Learning algorithm n times"
   ]
  },
  {
   "cell_type": "code",
   "execution_count": 25,
   "metadata": {},
   "outputs": [
    {
     "name": "stdout",
     "output_type": "stream",
     "text": [
      "\n",
      " ********** Training number  0\n",
      "Epsilon  1.0\n",
      "Epsilon_tmp  0.6833404829176654\n",
      "Episode 0, epsilon 1.0000, reward -86.83\n",
      "Epsilon  1.0\n",
      "Epsilon_tmp  0.45221921096090884\n",
      "Epsilon  1.0\n",
      "Epsilon_tmp  0.3513074247873526\n",
      "Epsilon  1.0\n",
      "Epsilon_tmp  0.21116566693085578\n",
      "Epsilon  1.0\n",
      "Epsilon_tmp  0.16669565327507843\n",
      "Epsilon  1.0\n",
      "Epsilon_tmp  0.12692854105586907\n",
      "Epsilon  1.0\n",
      "Epsilon_tmp  0.09781743845038979\n",
      "Epsilon  1.0\n",
      "Epsilon_tmp  0.07538297679466921\n",
      "Epsilon  1.0\n",
      "Epsilon_tmp  0.05276602792843829\n",
      "Epsilon  1.0\n",
      "Epsilon_tmp  0.0350595972031134\n",
      "Epsilon  1.0\n",
      "Epsilon_tmp  0.02767629105752194\n",
      "Epsilon  1.0\n",
      "Epsilon_tmp  0.018912330096616907\n",
      "Epsilon  1.0\n",
      "Epsilon_tmp  0.013724360378024056\n",
      "Epsilon  1.0\n",
      "Epsilon_tmp  0.008725641290171898\n",
      "Epsilon  1.0\n",
      "Epsilon_tmp  0.0059149786628713745\n",
      "Epsilon  1.0\n",
      "Epsilon_tmp  0.004669325495220539\n",
      "Epsilon  1.0\n",
      "Epsilon_tmp  0.003152603220409483\n",
      "Epsilon  1.0\n",
      "Epsilon_tmp  0.0023062039513448607\n",
      "Epsilon  1.0\n",
      "Epsilon_tmp  0.0017420130397075699\n",
      "Epsilon  1.0\n",
      "Epsilon_tmp  0.001364178012540117\n",
      "Epsilon  1.0\n",
      "Epsilon_tmp  0.0010812165231931371\n",
      "Epsilon  1.0\n",
      "Epsilon_tmp  0.0008365855002644215\n",
      "Epsilon  1.0\n",
      "Epsilon_tmp  0.0005926706728233167\n",
      "Epsilon  1.0\n",
      "Epsilon_tmp  0.0004049958637782229\n",
      "Epsilon  1.0\n",
      "Epsilon_tmp  0.000310861489603903\n",
      "Epsilon  1.0\n",
      "Epsilon_tmp  0.0002444146475200257\n",
      "Epsilon  1.0\n",
      "Epsilon_tmp  0.00017315312487221213\n",
      "Epsilon  1.0\n",
      "Epsilon_tmp  0.0001287126930022394\n",
      "Epsilon  1.0\n",
      "Epsilon_tmp  9.118522654101333e-05\n",
      "Epsilon  1.0\n",
      "Epsilon_tmp  5.9147042155061656e-05\n",
      "Epsilon  1.0\n",
      "Epsilon_tmp  4.19021334441843e-05\n",
      "Epsilon  1.0\n",
      "Epsilon_tmp  3.1147785765463206e-05\n",
      "Epsilon  1.0\n",
      "Epsilon_tmp  2.1802600580316553e-05\n",
      "Epsilon  1.0\n",
      "Epsilon_tmp  1.6468801247304696e-05\n",
      "Epsilon  1.0\n",
      "Epsilon_tmp  1.1074815306423592e-05\n",
      "Epsilon  1.0\n",
      "Epsilon_tmp  6.44684426927729e-06\n",
      "Epsilon  1.0\n",
      "Epsilon_tmp  4.850206257080614e-06\n",
      "Epsilon  1.0\n",
      "Epsilon_tmp  3.5197132368067672e-06\n",
      "Epsilon  1.0\n",
      "Epsilon_tmp  2.3292662772757196e-06\n",
      "Epsilon  1.0\n",
      "Epsilon_tmp  1.5538615485469058e-06\n",
      "Epsilon  1.0\n",
      "Epsilon_tmp  1.1974828917202483e-06\n",
      "Epsilon  1.0\n",
      "Epsilon_tmp  8.248743341979936e-07\n",
      "Epsilon  1.0\n",
      "Epsilon_tmp  6.459626903886266e-07\n",
      "Epsilon  1.0\n",
      "Epsilon_tmp  4.7064686496352147e-07\n",
      "Epsilon  1.0\n",
      "Epsilon_tmp  3.3342508808956194e-07\n",
      "Epsilon  1.0\n",
      "Epsilon_tmp  2.2421918958577837e-07\n",
      "Epsilon  1.0\n",
      "Epsilon_tmp  1.7141485391895563e-07\n",
      "Epsilon  1.0\n",
      "Epsilon_tmp  1.0262277901947372e-07\n",
      "Epsilon  1.0\n",
      "Epsilon_tmp  6.420758963459203e-08\n"
     ]
    },
    {
     "ename": "KeyboardInterrupt",
     "evalue": "",
     "output_type": "error",
     "traceback": [
      "\u001b[0;31m---------------------------------------------------------------------------\u001b[0m",
      "\u001b[0;31mKeyboardInterrupt\u001b[0m                         Traceback (most recent call last)",
      "\u001b[0;32m<ipython-input-25-065ce3f08a1f>\u001b[0m in \u001b[0;36m<module>\u001b[0;34m\u001b[0m\n\u001b[1;32m     17\u001b[0m \u001b[0;32mfor\u001b[0m \u001b[0mnumber\u001b[0m \u001b[0;32min\u001b[0m \u001b[0mrange\u001b[0m\u001b[0;34m(\u001b[0m\u001b[0mn_times\u001b[0m\u001b[0;34m)\u001b[0m\u001b[0;34m:\u001b[0m\u001b[0;34m\u001b[0m\u001b[0;34m\u001b[0m\u001b[0m\n\u001b[1;32m     18\u001b[0m     \u001b[0mprint\u001b[0m\u001b[0;34m(\u001b[0m\u001b[0;34m\"\\n ********** Training number \"\u001b[0m\u001b[0;34m,\u001b[0m \u001b[0mnumber\u001b[0m\u001b[0;34m)\u001b[0m\u001b[0;34m\u001b[0m\u001b[0;34m\u001b[0m\u001b[0m\n\u001b[0;32m---> 19\u001b[0;31m     \u001b[0mq_table\u001b[0m\u001b[0;34m,\u001b[0m\u001b[0mrewards\u001b[0m \u001b[0;34m=\u001b[0m \u001b[0mMonte_Carlo\u001b[0m\u001b[0;34m(\u001b[0m\u001b[0;34m)\u001b[0m\u001b[0;34m\u001b[0m\u001b[0;34m\u001b[0m\u001b[0m\n\u001b[0m\u001b[1;32m     20\u001b[0m     \u001b[0mMC_tables\u001b[0m\u001b[0;34m.\u001b[0m\u001b[0mappend\u001b[0m\u001b[0;34m(\u001b[0m\u001b[0mq_table\u001b[0m\u001b[0;34m)\u001b[0m\u001b[0;34m\u001b[0m\u001b[0;34m\u001b[0m\u001b[0m\n\u001b[1;32m     21\u001b[0m     \u001b[0mMC_rewards\u001b[0m\u001b[0;34m.\u001b[0m\u001b[0mappend\u001b[0m\u001b[0;34m(\u001b[0m\u001b[0mrewards\u001b[0m\u001b[0;34m)\u001b[0m\u001b[0;34m\u001b[0m\u001b[0;34m\u001b[0m\u001b[0m\n",
      "\u001b[0;32m<ipython-input-24-b50f7a1181da>\u001b[0m in \u001b[0;36mMonte_Carlo\u001b[0;34m()\u001b[0m\n\u001b[1;32m     26\u001b[0m \u001b[0;34m\u001b[0m\u001b[0m\n\u001b[1;32m     27\u001b[0m \u001b[0;34m\u001b[0m\u001b[0m\n\u001b[0;32m---> 28\u001b[0;31m         \u001b[0mtrayectory\u001b[0m \u001b[0;34m,\u001b[0m\u001b[0mtotal_reward\u001b[0m \u001b[0;34m=\u001b[0m \u001b[0mGenerate_episode\u001b[0m\u001b[0;34m(\u001b[0m\u001b[0mepsilon\u001b[0m\u001b[0;34m,\u001b[0m \u001b[0mq_table\u001b[0m\u001b[0;34m,\u001b[0m \u001b[0mmax_env_steps\u001b[0m\u001b[0;34m)\u001b[0m\u001b[0;34m\u001b[0m\u001b[0;34m\u001b[0m\u001b[0m\n\u001b[0m\u001b[1;32m     29\u001b[0m \u001b[0;34m\u001b[0m\u001b[0m\n\u001b[1;32m     30\u001b[0m         \u001b[0mepsilon_tmp\u001b[0m \u001b[0;34m*=\u001b[0m \u001b[0;34m(\u001b[0m\u001b[0mepsilon_decay\u001b[0m \u001b[0;34m**\u001b[0m \u001b[0mlen\u001b[0m\u001b[0;34m(\u001b[0m\u001b[0mtrayectory\u001b[0m\u001b[0;34m)\u001b[0m\u001b[0;34m)\u001b[0m\u001b[0;34m\u001b[0m\u001b[0;34m\u001b[0m\u001b[0m\n",
      "\u001b[0;32m<ipython-input-12-63b1891ad342>\u001b[0m in \u001b[0;36mGenerate_episode\u001b[0;34m(epsilon, q_table, max_env_steps)\u001b[0m\n\u001b[1;32m     22\u001b[0m         \u001b[0;31m# Take the action A, observe R, S'\u001b[0m\u001b[0;34m\u001b[0m\u001b[0;34m\u001b[0m\u001b[0;34m\u001b[0m\u001b[0m\n\u001b[1;32m     23\u001b[0m         \u001b[0mnew_state\u001b[0m\u001b[0;34m,\u001b[0m \u001b[0mreward\u001b[0m\u001b[0;34m,\u001b[0m \u001b[0mdone\u001b[0m\u001b[0;34m,\u001b[0m \u001b[0minfo\u001b[0m \u001b[0;34m=\u001b[0m \u001b[0menv\u001b[0m\u001b[0;34m.\u001b[0m\u001b[0mstep\u001b[0m\u001b[0;34m(\u001b[0m\u001b[0maction\u001b[0m\u001b[0;34m)\u001b[0m\u001b[0;34m\u001b[0m\u001b[0;34m\u001b[0m\u001b[0m\n\u001b[0;32m---> 24\u001b[0;31m         \u001b[0mbucket_new_state\u001b[0m \u001b[0;34m=\u001b[0m \u001b[0mbucketize\u001b[0m\u001b[0;34m(\u001b[0m\u001b[0mnew_state\u001b[0m\u001b[0;34m)\u001b[0m\u001b[0;34m\u001b[0m\u001b[0;34m\u001b[0m\u001b[0m\n\u001b[0m\u001b[1;32m     25\u001b[0m             \u001b[0;31m#print(\"reward \", reward)\u001b[0m\u001b[0;34m\u001b[0m\u001b[0;34m\u001b[0m\u001b[0;34m\u001b[0m\u001b[0m\n\u001b[1;32m     26\u001b[0m \u001b[0;34m\u001b[0m\u001b[0m\n",
      "\u001b[0;32m<ipython-input-7-46db01a511dc>\u001b[0m in \u001b[0;36mbucketize\u001b[0;34m(state)\u001b[0m\n\u001b[1;32m      4\u001b[0m         \u001b[0;32mif\u001b[0m \u001b[0mstate\u001b[0m\u001b[0;34m[\u001b[0m\u001b[0mi\u001b[0m\u001b[0;34m]\u001b[0m \u001b[0;34m<=\u001b[0m \u001b[0mstate_value_bounds\u001b[0m\u001b[0;34m[\u001b[0m\u001b[0mi\u001b[0m\u001b[0;34m]\u001b[0m\u001b[0;34m[\u001b[0m\u001b[0;36m0\u001b[0m\u001b[0;34m]\u001b[0m\u001b[0;34m:\u001b[0m\u001b[0;34m\u001b[0m\u001b[0;34m\u001b[0m\u001b[0m\n\u001b[1;32m      5\u001b[0m             \u001b[0mbucket_index\u001b[0m \u001b[0;34m=\u001b[0m \u001b[0;36m0\u001b[0m\u001b[0;34m\u001b[0m\u001b[0;34m\u001b[0m\u001b[0m\n\u001b[0;32m----> 6\u001b[0;31m         \u001b[0;32melif\u001b[0m \u001b[0mstate\u001b[0m\u001b[0;34m[\u001b[0m\u001b[0mi\u001b[0m\u001b[0;34m]\u001b[0m \u001b[0;34m>=\u001b[0m \u001b[0mstate_value_bounds\u001b[0m\u001b[0;34m[\u001b[0m\u001b[0mi\u001b[0m\u001b[0;34m]\u001b[0m\u001b[0;34m[\u001b[0m\u001b[0;36m1\u001b[0m\u001b[0;34m]\u001b[0m\u001b[0;34m:\u001b[0m\u001b[0;34m\u001b[0m\u001b[0;34m\u001b[0m\u001b[0m\n\u001b[0m\u001b[1;32m      7\u001b[0m             \u001b[0mbucket_index\u001b[0m \u001b[0;34m=\u001b[0m \u001b[0mnumber_of_buckets\u001b[0m\u001b[0;34m[\u001b[0m\u001b[0mi\u001b[0m\u001b[0;34m]\u001b[0m \u001b[0;34m-\u001b[0m \u001b[0;36m1\u001b[0m\u001b[0;34m\u001b[0m\u001b[0;34m\u001b[0m\u001b[0m\n\u001b[1;32m      8\u001b[0m         \u001b[0;32melse\u001b[0m\u001b[0;34m:\u001b[0m\u001b[0;34m\u001b[0m\u001b[0;34m\u001b[0m\u001b[0m\n",
      "\u001b[0;31mKeyboardInterrupt\u001b[0m: "
     ]
    }
   ],
   "source": [
    "# n_times = 5\n",
    "n_times = 1\n",
    "\n",
    "total_train_episodes = 10000\n",
    "gamma = 0.99                     \n",
    "max_epsilon = 1.0\n",
    "min_epsilon = 0.01   \n",
    "\n",
    "env = create_env()\n",
    "#env_preview(env)\n",
    "#show_action_and_env_space(env)\n",
    "number_of_buckets, number_of_actions, state_value_bounds = set_buckets_and_actions()\n",
    "\n",
    "MC_tables = []\n",
    "MC_rewards = []\n",
    "\n",
    "for number in range(n_times):\n",
    "    print(\"\\n ********** Training number \", number)\n",
    "    q_table,rewards = Monte_Carlo()\n",
    "    MC_tables.append(q_table)\n",
    "    MC_rewards.append(rewards)"
   ]
  },
  {
   "cell_type": "code",
   "execution_count": 19,
   "metadata": {},
   "outputs": [
    {
     "ename": "NameError",
     "evalue": "name 'trayectory' is not defined",
     "output_type": "error",
     "traceback": [
      "\u001b[0;31m---------------------------------------------------------------------------\u001b[0m",
      "\u001b[0;31mNameError\u001b[0m                                 Traceback (most recent call last)",
      "\u001b[0;32m<ipython-input-19-3aeef41cd01b>\u001b[0m in \u001b[0;36m<module>\u001b[0;34m\u001b[0m\n\u001b[0;32m----> 1\u001b[0;31m \u001b[0mtrayectory\u001b[0m\u001b[0;34m\u001b[0m\u001b[0;34m\u001b[0m\u001b[0m\n\u001b[0m",
      "\u001b[0;31mNameError\u001b[0m: name 'trayectory' is not defined"
     ]
    }
   ],
   "source": [
    "trayectory"
   ]
  },
  {
   "cell_type": "code",
   "execution_count": null,
   "metadata": {},
   "outputs": [],
   "source": []
  },
  {
   "cell_type": "markdown",
   "metadata": {},
   "source": [
    "#### Saving average reward and Q-tables"
   ]
  },
  {
   "cell_type": "code",
   "execution_count": 19,
   "metadata": {},
   "outputs": [],
   "source": [
    "MC_mean = np.mean(np.array(MC_rewards),axis=0)\n",
    "#print(MC_mean.shape)\n",
    "np.save('MC_mean', MC_mean)\n",
    "np.save('MC_tables', MC_tables)"
   ]
  },
  {
   "cell_type": "markdown",
   "metadata": {},
   "source": [
    "#### Plotting Q-Learning rewards"
   ]
  },
  {
   "cell_type": "code",
   "execution_count": 20,
   "metadata": {},
   "outputs": [
    {
     "data": {
      "image/png": "[encoded data removed]",
      "text/plain": [
       "<Figure size 432x288 with 1 Axes>"
      ]
     },
     "metadata": {
      "needs_background": "light"
     },
     "output_type": "display_data"
    }
   ],
   "source": [
    "import matplotlib.pyplot as plt\n",
    "import numpy as np\n",
    "%matplotlib inline \n",
    "\n",
    "x = np.linspace(0, total_train_episodes, MC_mean.size)\n",
    "plt.plot(x, MC_mean, label='Monte Carlo')\n",
    "\n",
    "# Add a legend\n",
    "plt.legend()\n",
    "\n",
    "# Show the plot\n",
    "plt.show()"
   ]
  },
  {
   "cell_type": "markdown",
   "metadata": {},
   "source": [
    "---"
   ]
  },
  {
   "cell_type": "markdown",
   "metadata": {},
   "source": [
    "# Testing\n"
   ]
  },
  {
   "cell_type": "markdown",
   "metadata": {},
   "source": [
    "#### Testing Q(s,·) values for a given initial state s"
   ]
  },
  {
   "cell_type": "code",
   "execution_count": 24,
   "metadata": {},
   "outputs": [],
   "source": [
    "env = create_env()"
   ]
  },
  {
   "cell_type": "code",
   "execution_count": 25,
   "metadata": {},
   "outputs": [
    {
     "name": "stdout",
     "output_type": "stream",
     "text": [
      "State  (2, 4, 1, 1, 2, 2, 0, 0)\n",
      "Q(s,·)  [-22.18355226 -24.1223673  -22.22384335   1.60938549]\n"
     ]
    }
   ],
   "source": [
    "#env = create_env()\n",
    "q_tables = np.load('MC_tables.npy')\n",
    "q_table = q_tables[0]\n",
    "\n",
    "number_of_buckets, number_of_actions, state_value_bounds = set_buckets_and_actions()\n",
    "bucket_state = bucketize(env.reset())\n",
    "\n",
    "print(\"State \", bucket_state)\n",
    "print(\"Q(s,·) \", q_table[bucket_state])"
   ]
  },
  {
   "cell_type": "markdown",
   "metadata": {},
   "source": [
    "#### Testing LunarLander with the learned Q-Table"
   ]
  },
  {
   "cell_type": "code",
   "execution_count": 26,
   "metadata": {
    "scrolled": true
   },
   "outputs": [
    {
     "name": "stdout",
     "output_type": "stream",
     "text": [
      "Score  -11.077973615120797\n",
      "Score  182.7057046400824\n",
      "Score  209.54383743508797\n",
      "Score  -188.31725444795046\n",
      "Score  -130.2753002916341\n",
      "Score  6.922628268255982\n",
      "Score  23.42538547366746\n",
      "Score  45.95332223567658\n",
      "Score  -206.376576545078\n",
      "Score  195.34885894345086\n",
      "\n",
      "Average score 12.78526320964379\n"
     ]
    }
   ],
   "source": [
    "#env = create_env()\n",
    "total_test_episodes = 10\n",
    "q_tables = np.load('MC_tables.npy')\n",
    "q_table = q_tables[0]\n",
    "rewards = []\n",
    "max_env_steps = env._max_episode_steps\n",
    "number_of_buckets, number_of_actions, state_value_bounds = set_buckets_and_actions()\n",
    "\n",
    "# ******* Loop for each episode:\n",
    "for episode in range(total_test_episodes):\n",
    "    #print(\"***Episode*** \", episode)\n",
    "    \n",
    "    # Control variables\n",
    "    total_rewards = 0\n",
    "    done =  False\n",
    "    \n",
    "    # ******* Initialize S\n",
    "    # Reset the environment getting the initial state\n",
    "    bucket_state = bucketize(env.reset())\n",
    "    \n",
    "    # *******Loop for each step of episode:\n",
    "    for step in range(max_env_steps):\n",
    "        env.render()\n",
    "        \n",
    "        #******* Choose A from S using policy derived from Q (greedy in this case)\n",
    "        action = np.argmax(q_table[bucket_state])\n",
    "        #print(action)\n",
    "        \n",
    "        # ******* Take the action A, observe R, S'\n",
    "        new_state, reward, done, info = env.step(action)\n",
    "        bucket_new_state = bucketize(new_state)\n",
    "        \n",
    "        # new_state is now the current state\n",
    "        bucket_state =  bucket_new_state\n",
    "        \n",
    "        total_rewards += reward\n",
    "        \n",
    "        if done:\n",
    "            rewards.append(total_rewards)\n",
    "            print(\"Score \", total_rewards)\n",
    "            break\n",
    "                \n",
    "env.close()\n",
    "print(\"\\nAverage score \" + str(sum(rewards)/total_test_episodes))"
   ]
  },
  {
   "cell_type": "code",
   "execution_count": 31,
   "metadata": {},
   "outputs": [
    {
     "data": {
      "text/plain": [
       "(2, 2, 2, 2, 2, 2, 0, 0)"
      ]
     },
     "execution_count": 31,
     "metadata": {},
     "output_type": "execute_result"
    }
   ],
   "source": [
    "bucket_state"
   ]
  }
 ],
 "metadata": {
  "kernelspec": {
   "display_name": "Python 3",
   "language": "python",
   "name": "python3"
  },
  "language_info": {
   "codemirror_mode": {
    "name": "ipython",
    "version": 3
   },
   "file_extension": ".py",
   "mimetype": "text/x-python",
   "name": "python",
   "nbconvert_exporter": "python",
   "pygments_lexer": "ipython3",
   "version": "3.7.9"
  }
 },
 "nbformat": 4,
 "nbformat_minor": 2
}
